{
 "cells": [
  {
   "cell_type": "markdown",
   "metadata": {},
   "source": [
    "# Welcome to Artificial Intelligence, Part II\n",
    "\n",
    "## This module will cover samplers of machine learning and computer vision\n",
    "\n",
    "## Today's agenda\n",
    "* Basic concepts of machine learning\n",
    "    * Basic terminology\n",
    "    * Supervised learning concepts\n",
    "    * Unsupervised learning concepts\n",
    "    * Some machine learning algorithms\n",
    "* Introduction to Jupyter Notebooks\n",
    "* Introduction to NumPy\n",
    "* Your lab!\n"
   ]
  },
  {
   "cell_type": "markdown",
   "metadata": {},
   "source": [
    "# Machine Learning: The Basic Ideas\n",
    "## Machine learning is a method of data analysis that automates analytical modelbuilding. Using algorithms that iteratively learn from data, machine learningallows computers to find hidden insights without being explicitly programmedwhere to look.\n",
    "\n",
    "* It’s used to predict/detect --- Supervised learning\n",
    "* It’s used to find patterns --- Unsupervised learning\n",
    "* It’s used to compress data/find underlying relationships --- Dimensionality reduction\n",
    "* Machine learning can also be thought of as algorithms to find statistical models to use for prediction or finding patterns in data\n"
   ]
  },
  {
   "cell_type": "markdown",
   "metadata": {},
   "source": [
    "# Some Uses of Machine Learning\n",
    "* Predicting prices in the stock market\n",
    "* Predicting whether a person with such and such features will buy a product\n",
    "* Recommender engines\n",
    "* Anomaly Detection\n",
    "* Find distinct customer bases for targeted marketing\n",
    "* Object recognition and detection in images/video\n",
    "* And many, many more!"
   ]
  },
  {
   "cell_type": "markdown",
   "metadata": {
    "collapsed": true
   },
   "source": [
    "# A Few Terms\n",
    "* Training example: a member of a data set\n",
    "* Feature: an aspect of a training example (aka, independent variable)\n",
    "* Feature vector: an array of feature values for a given training example\n",
    "* Label (aka, dependent variable, y-value): what we are trying to predict\n",
    "* Model: A function that can be used to predict labels given feature vectors"
   ]
  },
  {
   "cell_type": "markdown",
   "metadata": {},
   "source": [
    "# Supervised Learning\n",
    "\n",
    "* Data has both feature vectors and labels\n",
    "* Creates model to predict labels when only feature vector is known\n",
    "* Examples: make a model to predict which Enron employees will be prosecuted from  emails; predict housing prices from house features, detect when road curves left, right \n",
    "\n",
    "## Below is a flow chart of the process for supervised learning\n",
    "\n",
    "![supervised learning flowchart](imgs/supervised_learning.jpg)\n",
    "\n",
    "* The parts with the blue arrows is the training part of the process. In training, we use labled data and a machine learning algorithm to create a model that can make predictions\n",
    "* The parts with the green arrows is the process of using an already trained model to make predictions on new data"
   ]
  },
  {
   "cell_type": "markdown",
   "metadata": {},
   "source": [
    "# Classification versus Regression\n",
    "\n",
    "* Classification: The label is a category (nondegreed)\n",
    "* Regression: The label is quantitative, degreed\n",
    "* A classification example: Predicting iris flower type:\n",
    "  * Four features: Petal length and height, sepal length and height\n",
    "  * Three kinds: Iris Setosa, Iris Versicolour, Iris Virginica Iris dataset: example used in scikit-learn\n",
    "  \n",
    "  ![](imgs/iris.png)\n",
    "  \n",
    "* A regression example: predicting house price from square footage\n",
    "\n",
    "  ![](imgs/houseprice.jpg)\n"
   ]
  },
  {
   "cell_type": "markdown",
   "metadata": {},
   "source": [
    "# Unsupervised Learning\n",
    "\n",
    "* The data is not labeled: the dependent variable (output variable) is not known\n",
    "* Unsupervised algorithms try to find patterns in data\n",
    "* Example: Pizza Hut delivery --- use clustering to find groups in unlabled data\n",
    " ![](imgs/pizzahut.png)\n"
   ]
  },
  {
   "cell_type": "markdown",
   "metadata": {},
   "source": [
    "# Some Algorithms\n",
    "\n",
    "* We will be using the scikit-learn machine learning library\n",
    "* Here are some of the algorithms it supports, in an advisory flow-chart\n",
    " ![](imgs/ml_map.png)"
   ]
  },
  {
   "cell_type": "markdown",
   "metadata": {},
   "source": [
    "# Installing Scientific Computing Frameworks\n",
    "\n",
    "## Using Python from Anaconda\n",
    "* The Anaconda package is here: https://www.anaconda.com/download/#macos\n",
    "* Anaconda includes everything we need for data science, Jupyter, numpy, sci-kit learn, matplotlib, excluding opencv (we will install that later), and deep learning libraries\n",
    "\n",
    "\n"
   ]
  },
  {
   "cell_type": "markdown",
   "metadata": {},
   "source": [
    "# Introduction to Jupyter Notebooks\n",
    "\n",
    "* Jupyter notebooks are a way to do python programming with interactive cells\n",
    "* The cells can be run independently\n",
    "* Jupyter also has markup cells: cells that are used for text, images, diagrems, etc, for presentations or reports\n",
    "* Jupyter allows the rendering of graphs using python code from the code cells\n",
    "* Jupyter comes with Anaconda\n",
    "* Jupyter works with either Python 3 or Python 2\n",
    "* To start Jupyter, just go to the command line and type: jupyter notebook, a webpage at localhost will appear in your browser; that is your jupyter notebook homepage. You can create new notebooks from that page using the very simple and intuitive GUI there\n",
    "* Jupyter programs are served to you via your browser; the server lives at localhost\n",
    "* This document is a Jupyter notebook\n",
    "* See demo of various features of Jupyter\n",
    "* See https://www.cheatography.com/weidadeyue/cheat-sheets/jupyter-notebook/ for a Jupyter cheetsheet\n"
   ]
  },
  {
   "cell_type": "markdown",
   "metadata": {},
   "source": [
    "# Introduction to NumPy\n",
    "\n",
    "* NumPy is a package for scientific computing in Python\n",
    "* It is often used for matrix manipulation using its most basic object, the NumPy array\n",
    "* Many machine learning and computer vision libraries use NumPy arrays\n",
    "* NumPy comes with Anaconda, though many people install it with pip as well\n",
    "* see NumPy's quick start tutorial at https://docs.scipy.org/doc/numpy-dev/user/quickstart.html\n",
    "* Let's learn by doing!\n",
    "\n",
    "* First, we need to install Anaconda for Python 3.6 on your machine: go to https://docs.anaconda.com/anaconda/install/ and follow the instructions\n",
    "\n",
    "* Anaconda will install its own version of Python, your old Python installation won't be removed\n",
    "* We will access the new Python and other tools through the Anaconda\n",
    " Navigator (See in class demo)\n",
    "* Now that Anaconda is installed and ready"
   ]
  },
  {
   "cell_type": "code",
   "execution_count": 45,
   "metadata": {
    "collapsed": false
   },
   "outputs": [
    {
     "name": "stdout",
     "output_type": "stream",
     "text": [
      "[1 2 3 4 5]\n",
      "[ 0  1  2  3  4  5  6  7  8  9 10 11]\n"
     ]
    }
   ],
   "source": [
    "# note, I will be using python 2 for this demo\n",
    "# importing numpy with the usual alias\n",
    "import numpy as np\n",
    "\n",
    "a = np.array([1,2,3,4,5])\n",
    "print(a)\n",
    "\n",
    "#array of consecutive numbers\n",
    "a = np.arange(12)\n",
    "print(a)\n"
   ]
  },
  {
   "cell_type": "code",
   "execution_count": 46,
   "metadata": {
    "collapsed": false
   },
   "outputs": [
    {
     "name": "stdout",
     "output_type": "stream",
     "text": [
      "[ 0  1  2  3  4  5  6  7  8  9 10 11] [ 0  1  2  3  4  5  6  7  8  9 10 11]\n",
      "[ 0  2  4  6  8 10 12 14 16 18 20 22]\n"
     ]
    },
    {
     "data": {
      "text/plain": [
       "array([ 0,  3,  6,  9, 12, 15, 18, 21, 24, 27, 30, 33])"
      ]
     },
     "execution_count": 46,
     "metadata": {},
     "output_type": "execute_result"
    }
   ],
   "source": [
    "#add arrays\n",
    "a = np.arange(12)\n",
    "b = np.arange(12)\n",
    "print (a, b)\n",
    "print (a + b)\n",
    "\n",
    "#multiply by scalar\n",
    "a * 3\n",
    "# note: * does not do dot product in numpy\n"
   ]
  },
  {
   "cell_type": "code",
   "execution_count": 47,
   "metadata": {
    "collapsed": false
   },
   "outputs": [
    {
     "name": "stdout",
     "output_type": "stream",
     "text": [
      "int64\n",
      "(12,) (12,)\n",
      "12 12\n"
     ]
    }
   ],
   "source": [
    "#get types of elements of array\n",
    "print (a.dtype)\n",
    "#get shape\n",
    "print (a.shape, np.shape(a))\n",
    "#get size\n",
    "print (a.size, np.size(a))"
   ]
  },
  {
   "cell_type": "code",
   "execution_count": 48,
   "metadata": {
    "collapsed": false
   },
   "outputs": [
    {
     "name": "stdout",
     "output_type": "stream",
     "text": [
      "[[ 1.+0.j  2.+0.j]\n",
      " [ 3.+0.j  4.+0.j]]\n"
     ]
    }
   ],
   "source": [
    "#Using the array constructor\n",
    "a = np.array([2, 3, 4])\n",
    "a.dtype\n",
    "b = np.array([1.2, 3.5, 5.1])\n",
    "b.dtype\n",
    "\n",
    "#The type of the array can also be explicitly specified at \n",
    "#creation time\n",
    "c = np.array([ [1, 2], [3, 4] ], dtype=complex)\n",
    "print(c)\n"
   ]
  },
  {
   "cell_type": "code",
   "execution_count": 49,
   "metadata": {
    "collapsed": false
   },
   "outputs": [
    {
     "name": "stdout",
     "output_type": "stream",
     "text": [
      "[0 0 0]\n",
      "[1 1 1]\n",
      "a matrix of zeros [[ 0.  0.]\n",
      " [ 0.  0.]\n",
      " [ 0.  0.]]\n",
      "a matrix of ones [[ 1.  1.]\n",
      " [ 1.  1.]\n",
      " [ 1.  1.]]\n",
      "a random matrix\n",
      "[[ 0.73899662  0.54693874  0.6597939 ]\n",
      " [ 0.86816173  0.78311543  0.64483266]]\n"
     ]
    }
   ],
   "source": [
    "#fill all values in an array\n",
    "a.fill(0)\n",
    "print(a)\n",
    "a[:] = 1\n",
    "print(a)\n",
    "print(\"a matrix of zeros {}\".format(np.zeros((3, 2))))\n",
    "print(\"a matrix of ones {}\".format(np.ones((3, 2))))\n",
    "\n",
    "#a random matrix\n",
    "print(\"a random matrix\")\n",
    "r = np.random.rand(2, 3)\n",
    "print(r)"
   ]
  },
  {
   "cell_type": "code",
   "execution_count": 50,
   "metadata": {
    "collapsed": false
   },
   "outputs": [
    {
     "name": "stdout",
     "output_type": "stream",
     "text": [
      "[  0.  10.  20.  30.  40.  50.]\n",
      "[ 0.         -0.54402111  0.91294525 -0.98803162  0.74511316 -0.26237485]\n"
     ]
    }
   ],
   "source": [
    "#fill all values in an array cont\n",
    "#6 numbers from 0 to 50\n",
    "x = np.linspace(0, 50, 6)\n",
    "print(x)\n",
    "# use a math function to transform\n",
    "print(np.sin(x))"
   ]
  },
  {
   "cell_type": "code",
   "execution_count": 51,
   "metadata": {
    "collapsed": false
   },
   "outputs": [
    {
     "name": "stdout",
     "output_type": "stream",
     "text": [
      "[0 1 2 3 4 5]\n",
      "[[ 0  1  2]\n",
      " [ 3  4  5]\n",
      " [ 6  7  8]\n",
      " [ 9 10 11]]\n",
      "[ 1  3  5  7  9 11]\n"
     ]
    }
   ],
   "source": [
    "# arange\n",
    "a = np.arange(6)\n",
    "print(a)\n",
    "b = np.arange(12).reshape(4,3)\n",
    "print(b)\n",
    "# won't work: print(b.reshape(5,5)), not enough elements\n",
    "\n",
    "# first arg, beg(incl), second, end(non-incl), third, step\n",
    "c = np.arange(1, 13, 2)\n",
    "print(c)\n"
   ]
  },
  {
   "cell_type": "markdown",
   "metadata": {},
   "source": [
    "#### Basic operations"
   ]
  },
  {
   "cell_type": "code",
   "execution_count": 52,
   "metadata": {
    "collapsed": false
   },
   "outputs": [
    {
     "name": "stdout",
     "output_type": "stream",
     "text": [
      "[20 30 40 50]\n",
      "[0 1 2 3]\n",
      "[20 29 38 47]\n",
      "[0 1 4 9]\n",
      "[ 9.12945251 -9.88031624  7.4511316  -2.62374854]\n",
      "[ True  True False False]\n",
      "[22 32 42 52]\n"
     ]
    }
   ],
   "source": [
    "a = np.array( [20, 30, 40, 50] )\n",
    "print(a)\n",
    "b = np.arange(4)\n",
    "print(b)\n",
    "c = a - b\n",
    "print(c)\n",
    "print(b**2)\n",
    "print(10 * np.sin(a))\n",
    "print(a < 35)\n",
    "a += 2\n",
    "print(a)"
   ]
  },
  {
   "cell_type": "code",
   "execution_count": 53,
   "metadata": {
    "collapsed": false
   },
   "outputs": [
    {
     "name": "stdout",
     "output_type": "stream",
     "text": [
      "[[2 0]\n",
      " [0 4]]\n",
      "[[5 4]\n",
      " [3 4]]\n"
     ]
    }
   ],
   "source": [
    "a = np.array( [[1, 1], [0, 1]] )\n",
    "b = np.array( [[2, 0], [3, 4]] )\n",
    "print(a * b)   # elementwise product \n",
    "print(a.dot(b)) # matrix product"
   ]
  },
  {
   "cell_type": "code",
   "execution_count": 54,
   "metadata": {
    "collapsed": false
   },
   "outputs": [
    {
     "name": "stdout",
     "output_type": "stream",
     "text": [
      "a: [[ 0.03433018  0.57760635  0.45429204]\n",
      " [ 0.55493083  0.48544341  0.04987378]]\n",
      "sum: 2.156476603207885\n",
      "min: 0.0343301843554642\n",
      "max 0.5776063524973211\n"
     ]
    }
   ],
   "source": [
    "# random numbers from 0 to .9999...\n",
    "# sums, max, min\n",
    "a = np.random.random((2,3))\n",
    "print(\"a: {}\\nsum: {}\\nmin: {}\\nmax {}\".format(a, a.sum(), a.min(), a.max()))\n"
   ]
  },
  {
   "cell_type": "code",
   "execution_count": 55,
   "metadata": {
    "collapsed": false
   },
   "outputs": [
    {
     "name": "stdout",
     "output_type": "stream",
     "text": [
      "b:\n",
      "[[ 0.03433018  0.57760635  0.45429204]\n",
      " [ 0.55493083  0.48544341  0.04987378]]\n",
      "sumb: [12 15 18 21]\n",
      "minb: [0 4 8]\n",
      "cumsumb: \n",
      "[[ 0  1  3  6]\n",
      " [ 4  9 15 22]\n",
      " [ 8 17 27 38]]\n"
     ]
    }
   ],
   "source": [
    "#for matrices\n",
    "b = np.arange(12).reshape(3,4)\n",
    "\n",
    "sumb = b.sum(axis=0)                            # sum of each column\n",
    "minb = b.min(axis=1)                            # min of each row\n",
    "cumsumb = b.cumsum(axis=1)                         # cumulative sum along each row\n",
    "\n",
    "print(\"b:\\n{}\\nsumb: {}\\nminb: {}\\ncumsumb: \\n{}\".format(a, sumb, minb, cumsumb))"
   ]
  },
  {
   "cell_type": "markdown",
   "metadata": {},
   "source": [
    "#### Some universal functions in NumPy are:\n",
    "all, any, apply_along_axis, argmax, argmin, argsort, average, bincount, ceil, clip, conj, corrcoef, cov, cross, cumprod, cumsum, diff, dot, floor, inner, inv, lexsort, max, maximum, mean, median, min, minimum, nonzero, outer, prod, re, round, sort, std, sum, trace, transpose, var, vdot, vectorize, where\n",
    "\n",
    "see: https://docs.scipy.org/doc/numpy/reference/ufuncs.html\n"
   ]
  },
  {
   "cell_type": "markdown",
   "metadata": {},
   "source": [
    "### Slicing"
   ]
  },
  {
   "cell_type": "code",
   "execution_count": 56,
   "metadata": {
    "collapsed": false,
    "scrolled": true
   },
   "outputs": [
    {
     "name": "stdout",
     "output_type": "stream",
     "text": [
      "8\n",
      "[ 8 27 64]\n",
      "[-1000     1 -1000    27 -1000   125   216   343   512   729]\n",
      "[  729   512   343   216   125 -1000    27 -1000     1 -1000]\n"
     ]
    }
   ],
   "source": [
    "# Single dimension\n",
    "a = np.arange(10)**3\n",
    "print(a[2])\n",
    "print(a[2:5])\n",
    "a[:6:2] = -1000\n",
    "print(a) \n",
    "# equivalent to a[0:6:2] = -1000; \n",
    "# from start to position 6, exclusive,\n",
    "# set every 2nd element to -1000\n",
    "\n",
    "print(a[ : :-1])                                \n",
    "# reversed a\n"
   ]
  },
  {
   "cell_type": "code",
   "execution_count": 57,
   "metadata": {
    "collapsed": false
   },
   "outputs": [
    {
     "name": "stdout",
     "output_type": "stream",
     "text": [
      "[ 2  3  4  5  6  7  8  9 10 11 12 13 14 15 16 17 18 19 20 21 22 23 24 25 26\n",
      " 27 28 29]\n",
      "[28 29]\n",
      "[ 2  4  6  8 10 12 14 16 18 20 22 24 26 28]\n"
     ]
    }
   ],
   "source": [
    "a = np.arange(2, 30)\n",
    "print(a)\n",
    "#last 2 elements\n",
    "print(a[-2:])\n",
    "#every other element\n",
    "#the syntax: [first:last:step]\n",
    "# if blank, assume first all the way to and including the end\n",
    "print(a[::2])"
   ]
  },
  {
   "cell_type": "code",
   "execution_count": 58,
   "metadata": {
    "collapsed": false
   },
   "outputs": [
    {
     "name": "stdout",
     "output_type": "stream",
     "text": [
      "b: [[ 0  1  2  3]\n",
      " [10 11 12 13]\n",
      " [20 21 22 23]\n",
      " [30 31 32 33]\n",
      " [40 41 42 43]]\n",
      "b[2, 3]: 23\n",
      "b[0:5, 1]: [ 1 11 21 31 41]\n",
      "b[ : ,1]: [ 1 11 21 31 41]\n",
      "b[1:3, : ]: [[10 11 12 13]\n",
      " [20 21 22 23]]\n",
      "b[-1]: [40 41 42 43]\n"
     ]
    }
   ],
   "source": [
    "# Multidimensional\n",
    "def f(x, y):\n",
    "    return 10 * x + y\n",
    "\n",
    "b = np.fromfunction(f,(5, 4),dtype=int)\n",
    "print(\"b:\", b)\n",
    "print(\"b[2, 3]:\", b[2, 3])\n",
    "print(\"b[0:5, 1]:\", b[0:5, 1])                       # each row in the second column of b\n",
    "print(\"b[ : ,1]:\", b[ : ,1])                       # equivalent to the previous example\n",
    "print(\"b[1:3, : ]:\", b[1:3, : ])                      # each column in the second and third row of b\n",
    "\n",
    "# When fewer indices are provided than the number of axes, the missing indices are considered complete slices:\n",
    "print(\"b[-1]:\", b[-1])                                  # the last row. Equivalent to b[-1,:]"
   ]
  },
  {
   "cell_type": "markdown",
   "metadata": {},
   "source": [
    "The expression within brackets in b[i] is treated as an i followed by as many instances of : as needed to represent the remaining axes. NumPy also allows you to write this using dots as b[i,...].\n",
    "\n",
    "The dots (...) represent as many colons as needed to produce a complete indexing tuple. For example, if x is a rank 5 array (i.e., it has 5 axes), then\n",
    "\n",
    "x[1,2,...] is equivalent to x[1,2,:,:,:],\n",
    "x[...,3] to x[:,:,:,:,3] and\n",
    "x[4,...,5,:] to x[4,:,:,5,:]."
   ]
  },
  {
   "cell_type": "code",
   "execution_count": 59,
   "metadata": {
    "collapsed": false
   },
   "outputs": [
    {
     "name": "stdout",
     "output_type": "stream",
     "text": [
      "(2, 2, 3)\n",
      "[[100 101 102]\n",
      " [110 112 113]]\n",
      "[[  2  13]\n",
      " [102 113]]\n"
     ]
    }
   ],
   "source": [
    "c = np.array( [[[  0,  1,  2],               # a 3D array (two stacked 2D arrays)\n",
    "                 [ 10, 12, 13]],\n",
    "                [[100,101,102],\n",
    "                [110,112,113]]])\n",
    "print(c.shape)\n",
    "print(c[1,...])                                 # same as c[1,:,:] or c[1]\n",
    "print(c[...,2])                                   # same as c[:,:,2]"
   ]
  },
  {
   "cell_type": "markdown",
   "metadata": {},
   "source": [
    "## Shape Manipulation"
   ]
  },
  {
   "cell_type": "code",
   "execution_count": 60,
   "metadata": {
    "collapsed": false
   },
   "outputs": [
    {
     "name": "stdout",
     "output_type": "stream",
     "text": [
      "a: [[ 2.  5.  2.  3.]\n",
      " [ 2.  6.  9.  6.]\n",
      " [ 5.  5.  0.  0.]]\n",
      "a.shape: (3, 4)\n",
      "a.ravel(): [ 2.  5.  2.  3.  2.  6.  9.  6.  5.  5.  0.  0.]\n",
      "a.reshape(6,2): [[ 2.  5.]\n",
      " [ 2.  3.]\n",
      " [ 2.  6.]\n",
      " [ 9.  6.]\n",
      " [ 5.  5.]\n",
      " [ 0.  0.]]\n",
      "a.T: [[ 2.  2.  5.]\n",
      " [ 5.  6.  5.]\n",
      " [ 2.  9.  0.]\n",
      " [ 3.  6.  0.]]\n",
      "a.T.shape: (4, 3)\n",
      "a.shape: (3, 4)\n"
     ]
    }
   ],
   "source": [
    "# Changing shape\n",
    "\n",
    "a = np.floor(10 * np.random.random((3, 4)))\n",
    "print(\"a:\", a)\n",
    "print(\"a.shape:\", a.shape)\n",
    "print(\"a.ravel():\", a.ravel())  # returns the array, flattened\n",
    "print(\"a.reshape(6,2):\", a.reshape(6,2))  # returns the array with a modified shape\n",
    "# if -1 is used as the last dimension, NumPy figures out what it has to be\n",
    "\n",
    "print(\"a.T:\", a.T)  # returns the array, transposed\n",
    "print(\"a.T.shape:\", a.T.shape)\n",
    "print(\"a.shape:\", a.shape)\n",
    "\n"
   ]
  },
  {
   "cell_type": "code",
   "execution_count": 61,
   "metadata": {
    "collapsed": false
   },
   "outputs": [
    {
     "name": "stdout",
     "output_type": "stream",
     "text": [
      "a:\n",
      " [[ 5.  4.]\n",
      " [ 8.  0.]]\n",
      "b:\n",
      " [[ 4.  7.]\n",
      " [ 2.  6.]]\n",
      "np.vstack((a,b)):\n",
      " [[ 5.  4.]\n",
      " [ 8.  0.]\n",
      " [ 4.  7.]\n",
      " [ 2.  6.]]\n",
      "np.hstack((a,b)):\n",
      " [[ 5.  4.  4.  7.]\n",
      " [ 8.  0.  2.  6.]]\n"
     ]
    }
   ],
   "source": [
    "# Stacking arrays\n",
    "\n",
    "a = np.floor(10 * np.random.random((2,2)))\n",
    "print(\"a:\\n\", a)\n",
    "b = np.floor(10 * np.random.random((2,2)))\n",
    "print(\"b:\\n\", b)\n",
    "print(\"np.vstack((a,b)):\\n\", np.vstack((a,b)))\n",
    "print(\"np.hstack((a,b)):\\n\", np.hstack((a,b)))"
   ]
  },
  {
   "cell_type": "markdown",
   "metadata": {},
   "source": [
    "### Functions and Methods Overview\n",
    "from https://docs.scipy.org/doc/numpy-dev/user/quickstart.html\n",
    "\n",
    "Here is a list of some useful NumPy functions and methods names ordered in categories. See Routines for the full list.\n",
    "\n",
    "##### Array Creation\n",
    "arange, array, copy, empty, empty_like, eye, fromfile, fromfunction, identity, linspace, logspace, mgrid, ogrid, ones, ones_like, r, zeros, zeros_like\n",
    "##### Conversions\n",
    "ndarray.astype, atleast_1d, atleast_2d, atleast_3d, mat\n",
    "##### Manipulations\n",
    "array_split, column_stack, concatenate, diagonal, dsplit, dstack, hsplit, hstack, ndarray.item, newaxis, ravel, repeat, reshape, resize, squeeze, swapaxes, take, transpose, vsplit, vstack\n",
    "##### Questions\n",
    "all, any, nonzero, where\n",
    "##### Ordering\n",
    "argmax, argmin, argsort, max, min, ptp, searchsorted, sort\n",
    "##### Operations\n",
    "choose, compress, cumprod, cumsum, inner, ndarray.fill, imag, prod, put, putmask, real, sum\n",
    "##### Basic Statistics\n",
    "cov, mean, std, var\n",
    "##### Basic Linear Algebra\n",
    "cross, dot, outer, linalg.svd, vdot"
   ]
  },
  {
   "cell_type": "markdown",
   "metadata": {},
   "source": [
    "#### Indexing with Boolean Arrays"
   ]
  },
  {
   "cell_type": "code",
   "execution_count": 66,
   "metadata": {
    "collapsed": false
   },
   "outputs": [
    {
     "name": "stdout",
     "output_type": "stream",
     "text": [
      "[[False False False False]\n",
      " [False  True  True  True]\n",
      " [ True  True  True  True]]\n",
      "[ 5  6  7  8  9 10 11]\n",
      "[[0 1 2 3]\n",
      " [4 0 0 0]\n",
      " [0 0 0 0]]\n",
      "[[ 0  1  2  3  4]\n",
      " [-1 -1 -1 -1 -1]\n",
      " [-1 -1 -1 -1 -1]\n",
      " [-1 -1 -1 -1 -1]\n",
      " [-1 -1 -1 -1 -1]]\n",
      "[[ 0  6  7  8  9]\n",
      " [-1 -1 -1 -1 -1]\n",
      " [-1 -1 -1 -1 -1]\n",
      " [-1 -1 -1 -1 -1]\n",
      " [-1 -1 -1 -1 -1]]\n"
     ]
    }
   ],
   "source": [
    "a = np.arange(12).reshape(3,4)\n",
    "b = a > 4\n",
    "print(b)                                          # b is a boolean with a's shape\n",
    "print(a[b])                                     # 1d array with the selected elements\n",
    "\n",
    "#This property can be very useful in assignments:\n",
    "\n",
    "a[b] = 0                                   # All elements of 'a' higher than 4 become 0\n",
    "print(a)\n",
    "\n",
    "#or a shortcut\n",
    "a = np.arange(25).reshape(5,5)\n",
    "a[a > 4] = -1\n",
    "print(a)\n",
    "\n",
    "# modifying specified values\n",
    "a[a > 0] += 5\n",
    "print(a)\n"
   ]
  }
 ],
 "metadata": {
  "kernelspec": {
   "display_name": "Python 3",
   "language": "python",
   "name": "python3"
  },
  "language_info": {
   "codemirror_mode": {
    "name": "ipython",
    "version": 3
   },
   "file_extension": ".py",
   "mimetype": "text/x-python",
   "name": "python",
   "nbconvert_exporter": "python",
   "pygments_lexer": "ipython3",
   "version": "3.5.3"
  }
 },
 "nbformat": 4,
 "nbformat_minor": 2
}
